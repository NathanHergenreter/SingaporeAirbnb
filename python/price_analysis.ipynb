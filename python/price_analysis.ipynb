{
 "cells": [
  {
   "cell_type": "code",
   "execution_count": 1,
   "metadata": {},
   "outputs": [],
   "source": [
    "import pandas as pd"
   ]
  },
  {
   "cell_type": "code",
   "execution_count": 2,
   "metadata": {},
   "outputs": [],
   "source": [
    "airbnb = pd.read_csv('cleaned.csv')"
   ]
  },
  {
   "cell_type": "code",
   "execution_count": 3,
   "metadata": {},
   "outputs": [
    {
     "data": {
      "text/html": [
       "<div>\n",
       "<style scoped>\n",
       "    .dataframe tbody tr th:only-of-type {\n",
       "        vertical-align: middle;\n",
       "    }\n",
       "\n",
       "    .dataframe tbody tr th {\n",
       "        vertical-align: top;\n",
       "    }\n",
       "\n",
       "    .dataframe thead th {\n",
       "        text-align: right;\n",
       "    }\n",
       "</style>\n",
       "<table border=\"1\" class=\"dataframe\">\n",
       "  <thead>\n",
       "    <tr style=\"text-align: right;\">\n",
       "      <th></th>\n",
       "      <th>name</th>\n",
       "      <th>neighbourhood_group</th>\n",
       "      <th>neighbourhood</th>\n",
       "      <th>room_type</th>\n",
       "      <th>price</th>\n",
       "      <th>minimum_nights</th>\n",
       "      <th>number_of_reviews</th>\n",
       "      <th>last_review</th>\n",
       "      <th>reviews_per_month</th>\n",
       "      <th>calculated_host_listings_count</th>\n",
       "      <th>availability_365</th>\n",
       "      <th>host</th>\n",
       "    </tr>\n",
       "  </thead>\n",
       "  <tbody>\n",
       "    <tr>\n",
       "      <th>0</th>\n",
       "      <td>COZICOMFORT LONG TERM STAY ROOM 2</td>\n",
       "      <td>North Region</td>\n",
       "      <td>Woodlands</td>\n",
       "      <td>Private room</td>\n",
       "      <td>83</td>\n",
       "      <td>180</td>\n",
       "      <td>1</td>\n",
       "      <td>2013-10-21</td>\n",
       "      <td>0.01</td>\n",
       "      <td>2</td>\n",
       "      <td>365</td>\n",
       "      <td>266763: Francesca</td>\n",
       "    </tr>\n",
       "    <tr>\n",
       "      <th>1</th>\n",
       "      <td>Pleasant Room along Bukit Timah</td>\n",
       "      <td>Central Region</td>\n",
       "      <td>Bukit Timah</td>\n",
       "      <td>Private room</td>\n",
       "      <td>81</td>\n",
       "      <td>90</td>\n",
       "      <td>18</td>\n",
       "      <td>2014-12-26</td>\n",
       "      <td>0.28</td>\n",
       "      <td>1</td>\n",
       "      <td>365</td>\n",
       "      <td>227796: Sujatha</td>\n",
       "    </tr>\n",
       "    <tr>\n",
       "      <th>2</th>\n",
       "      <td>COZICOMFORT</td>\n",
       "      <td>North Region</td>\n",
       "      <td>Woodlands</td>\n",
       "      <td>Private room</td>\n",
       "      <td>69</td>\n",
       "      <td>6</td>\n",
       "      <td>20</td>\n",
       "      <td>2015-10-01</td>\n",
       "      <td>0.20</td>\n",
       "      <td>2</td>\n",
       "      <td>365</td>\n",
       "      <td>266763: Francesca</td>\n",
       "    </tr>\n",
       "    <tr>\n",
       "      <th>3</th>\n",
       "      <td>Ensuite Room (Room 1 &amp; 2) near EXPO</td>\n",
       "      <td>East Region</td>\n",
       "      <td>Tampines</td>\n",
       "      <td>Private room</td>\n",
       "      <td>206</td>\n",
       "      <td>1</td>\n",
       "      <td>14</td>\n",
       "      <td>2019-08-11</td>\n",
       "      <td>0.15</td>\n",
       "      <td>9</td>\n",
       "      <td>353</td>\n",
       "      <td>367042: Belinda</td>\n",
       "    </tr>\n",
       "    <tr>\n",
       "      <th>4</th>\n",
       "      <td>B&amp;B  Room 1 near Airport &amp; EXPO</td>\n",
       "      <td>East Region</td>\n",
       "      <td>Tampines</td>\n",
       "      <td>Private room</td>\n",
       "      <td>94</td>\n",
       "      <td>1</td>\n",
       "      <td>22</td>\n",
       "      <td>2019-07-28</td>\n",
       "      <td>0.22</td>\n",
       "      <td>9</td>\n",
       "      <td>355</td>\n",
       "      <td>367042: Belinda</td>\n",
       "    </tr>\n",
       "  </tbody>\n",
       "</table>\n",
       "</div>"
      ],
      "text/plain": [
       "                                  name neighbourhood_group neighbourhood  \\\n",
       "0    COZICOMFORT LONG TERM STAY ROOM 2        North Region     Woodlands   \n",
       "1      Pleasant Room along Bukit Timah      Central Region   Bukit Timah   \n",
       "2                          COZICOMFORT        North Region     Woodlands   \n",
       "3  Ensuite Room (Room 1 & 2) near EXPO         East Region      Tampines   \n",
       "4      B&B  Room 1 near Airport & EXPO         East Region      Tampines   \n",
       "\n",
       "      room_type  price  minimum_nights  number_of_reviews last_review  \\\n",
       "0  Private room     83             180                  1  2013-10-21   \n",
       "1  Private room     81              90                 18  2014-12-26   \n",
       "2  Private room     69               6                 20  2015-10-01   \n",
       "3  Private room    206               1                 14  2019-08-11   \n",
       "4  Private room     94               1                 22  2019-07-28   \n",
       "\n",
       "   reviews_per_month  calculated_host_listings_count  availability_365  \\\n",
       "0               0.01                               2               365   \n",
       "1               0.28                               1               365   \n",
       "2               0.20                               2               365   \n",
       "3               0.15                               9               353   \n",
       "4               0.22                               9               355   \n",
       "\n",
       "                host  \n",
       "0  266763: Francesca  \n",
       "1    227796: Sujatha  \n",
       "2  266763: Francesca  \n",
       "3    367042: Belinda  \n",
       "4    367042: Belinda  "
      ]
     },
     "execution_count": 3,
     "metadata": {},
     "output_type": "execute_result"
    }
   ],
   "source": [
    "airbnb.head()"
   ]
  },
  {
   "cell_type": "code",
   "execution_count": 4,
   "metadata": {},
   "outputs": [
    {
     "name": "stdout",
     "output_type": "stream",
     "text": [
      "Number of neighborhood groups: 5\n",
      "Number of neighborhoods: 43\n",
      "Number of room types: 3\n"
     ]
    }
   ],
   "source": [
    "by_nbhd_group = airbnb.neighbourhood_group.value_counts()\n",
    "by_nbhd = pd.value_counts(airbnb.neighbourhood)\n",
    "by_room_type = pd.value_counts(airbnb.room_type)\n",
    "\n",
    "print('Number of neighborhood groups: ' + str(by_nbhd_group.shape[0]))\n",
    "print('Number of neighborhoods: ' + str(by_nbhd.shape[0]))\n",
    "print('Number of room types: ' + str(by_room_type.shape[0]))"
   ]
  },
  {
   "cell_type": "code",
   "execution_count": 5,
   "metadata": {},
   "outputs": [
    {
     "data": {
      "text/plain": [
       "neighbourhood_group\n",
       "Central Region       176.629418\n",
       "East Region          142.503937\n",
       "North Region         110.779412\n",
       "North-East Region     99.838150\n",
       "West Region          175.974074\n",
       "Name: price, dtype: float64"
      ]
     },
     "execution_count": 5,
     "metadata": {},
     "output_type": "execute_result"
    }
   ],
   "source": [
    "test = airbnb.groupby('neighbourhood_group')\n",
    "test['price'].mean()"
   ]
  },
  {
   "cell_type": "code",
   "execution_count": 6,
   "metadata": {},
   "outputs": [],
   "source": [
    "group_dict = {'Central Region' : 0, 'East Region' : 1, 'North Region': 2, 'North-East Region': 3, 'West Region': 4 }\n",
    "airbnbMapped = airbnb.copy()\n",
    "airbnbMapped.neighbourhood_group = airbnbMapped.neighbourhood_group.map(group_dict)\n",
    "\n",
    "central_region = airbnb[airbnbMapped.neighbourhood_group == 0]\n",
    "east_region = airbnb[airbnbMapped.neighbourhood_group == 1]\n",
    "north_region = airbnb[airbnbMapped.neighbourhood_group == 2]\n",
    "north_east_region = airbnb[airbnbMapped.neighbourhood_group == 3]\n",
    "west_region = airbnb[airbnbMapped.neighbourhood_group == 4]"
   ]
  },
  {
   "cell_type": "code",
   "execution_count": 18,
   "metadata": {},
   "outputs": [],
   "source": [
    "Q1, Q3 = central_region.price.quantile([0.25, 0.75])\n",
    "central_region_no = central_region[ (central_region.price >= Q1-1.5 * (Q3-Q1)) & (central_region.price <= Q3+1.5 * (Q3-Q1))]\n",
    "\n",
    "Q1, Q3 = east_region.price.quantile([0.25, 0.75])\n",
    "east_region_no = east_region[ (east_region.price >= Q1-1.5 * (Q3-Q1)) & (east_region.price <= Q3+1.5 * (Q3-Q1))]\n",
    "\n",
    "Q1, Q3 = north_region.price.quantile([0.25, 0.75])\n",
    "north_region_no = north_region[ (north_region.price >= Q1-1.5 * (Q3-Q1)) & (north_region.price <= Q3+1.5 * (Q3-Q1))]\n",
    "\n",
    "Q1, Q3 = east_region.price.quantile([0.25, 0.75])\n",
    "north_east_region_no = north_east_region[ (north_east_region.price >= Q1-1.5 * (Q3-Q1)) & (north_east_region.price <= Q3+1.5 * (Q3-Q1))]\n",
    "\n",
    "Q1, Q3 = west_region.price.quantile([0.25, 0.75])\n",
    "west_region_no = west_region[ (west_region.price >= Q1-1.5 * (Q3-Q1)) & (west_region.price <= Q3+1.5 * (Q3-Q1))]"
   ]
  },
  {
   "cell_type": "code",
   "execution_count": 24,
   "metadata": {},
   "outputs": [
    {
     "name": "stdout",
     "output_type": "stream",
     "text": [
      "Central Region Mean (w/ outliers): 176.62941829132984\n",
      "Central Region Mean (no outliers): 143.45387823185987\n",
      "\n",
      "East Region Mean (w/ outliers): 142.50393700787401\n",
      "East Region Mean (no outliers): 101.97933884297521\n",
      "\n",
      "North Region Mean (w/ outliers): 110.77941176470588\n",
      "North Region Mean (no outliers): 84.1436170212766\n",
      "\n",
      "North-East Region Mean (w/ outliers): 99.83815028901734\n",
      "North-East Region Mean (no outliers): 76.53191489361703\n",
      "\n",
      "West Region Mean (w/ outliers): 175.97407407407408\n",
      "West Region Mean (no outliers): 84.36157024793388\n"
     ]
    }
   ],
   "source": [
    "print('Central Region Mean (w/ outliers): ' + str(central_region.price.mean()))\n",
    "print('Central Region Mean (no outliers): ' + str(central_region_no.price.mean()))\n",
    "print()\n",
    "print('East Region Mean (w/ outliers): ' + str(east_region.price.mean()))\n",
    "print('East Region Mean (no outliers): ' + str(east_region_no.price.mean()))\n",
    "print()\n",
    "print('North Region Mean (w/ outliers): ' + str(north_region.price.mean()))\n",
    "print('North Region Mean (no outliers): ' + str(north_region_no.price.mean()))\n",
    "print()\n",
    "print('North-East Region Mean (w/ outliers): ' + str(north_east_region.price.mean()))\n",
    "print('North-East Region Mean (no outliers): ' + str(north_east_region_no.price.mean()))\n",
    "print()\n",
    "print('West Region Mean (w/ outliers): ' + str(west_region.price.mean()))\n",
    "print('West Region Mean (no outliers): ' + str(west_region_no.price.mean()))"
   ]
  },
  {
   "cell_type": "code",
   "execution_count": null,
   "metadata": {},
   "outputs": [],
   "source": []
  }
 ],
 "metadata": {
  "kernelspec": {
   "display_name": "Python 3",
   "language": "python",
   "name": "python3"
  },
  "language_info": {
   "codemirror_mode": {
    "name": "ipython",
    "version": 3
   },
   "file_extension": ".py",
   "mimetype": "text/x-python",
   "name": "python",
   "nbconvert_exporter": "python",
   "pygments_lexer": "ipython3",
   "version": "3.7.3"
  }
 },
 "nbformat": 4,
 "nbformat_minor": 2
}
